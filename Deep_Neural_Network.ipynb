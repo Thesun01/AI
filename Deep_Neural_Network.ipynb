{
  "nbformat": 4,
  "nbformat_minor": 0,
  "metadata": {
    "colab": {
      "name": "Deep Neural Network.ipynb",
      "provenance": [],
      "collapsed_sections": [],
      "authorship_tag": "ABX9TyMsoeQcYbWBw/jlsh3KyXI6",
      "include_colab_link": true
    },
    "kernelspec": {
      "name": "python3",
      "display_name": "Python 3"
    }
  },
  "cells": [
    {
      "cell_type": "markdown",
      "metadata": {
        "id": "view-in-github",
        "colab_type": "text"
      },
      "source": [
        "<a href=\"https://colab.research.google.com/github/Thesun01/Hello-HTML-/blob/master/Deep_Neural_Network.ipynb\" target=\"_parent\"><img src=\"https://colab.research.google.com/assets/colab-badge.svg\" alt=\"Open In Colab\"/></a>"
      ]
    },
    {
      "cell_type": "code",
      "metadata": {
        "id": "pa6gqwwHQWGW",
        "colab_type": "code",
        "colab": {
          "base_uri": "https://localhost:8080/",
          "height": 34
        },
        "outputId": "7625eff0-221d-4d0c-a6b2-0d41347ec0ff"
      },
      "source": [
        "tf.print('Hello')"
      ],
      "execution_count": null,
      "outputs": [
        {
          "output_type": "stream",
          "text": [
            "Hello\n"
          ],
          "name": "stdout"
        }
      ]
    },
    {
      "cell_type": "code",
      "metadata": {
        "id": "CXFFbo0-djBc",
        "colab_type": "code",
        "colab": {}
      },
      "source": [
        "import tensorflow as tf"
      ],
      "execution_count": null,
      "outputs": []
    },
    {
      "cell_type": "code",
      "metadata": {
        "id": "T1lXmVYEQkJa",
        "colab_type": "code",
        "colab": {
          "base_uri": "https://localhost:8080/",
          "height": 34
        },
        "outputId": "6b4aed7b-0e7c-4b7f-ecef-33176c04d021"
      },
      "source": [
        "tf.print(tf.__version__)"
      ],
      "execution_count": null,
      "outputs": [
        {
          "output_type": "stream",
          "text": [
            "2.3.0\n"
          ],
          "name": "stdout"
        }
      ]
    },
    {
      "cell_type": "code",
      "metadata": {
        "id": "3cvfsn2adiDk",
        "colab_type": "code",
        "colab": {}
      },
      "source": [
        ""
      ],
      "execution_count": null,
      "outputs": []
    },
    {
      "cell_type": "markdown",
      "metadata": {
        "id": "mQp7ifc3pY6d",
        "colab_type": "text"
      },
      "source": [
        "Currently TensorFlow is the most famous deep learning library in the world developed by google, TensorFlow architecture works in three-part first it preprocess the data then it builds the model and then it trains and estimate the model and then evaluate the performance of the model. It is called TensorFlow because it takes input as a multidimensional array which is also known as a Tensor.\n",
        "\n",
        "Now we will see why every data scientist learns TensorFlow 2.x, not TensorFlow 1.x, The TensorFlow 2.x is recently released by Google. There are so many things which google has changed in TensorFlow 2.0 so the TensorFlow makes the user more productive including the removing redundant APIs and making APIs more consistent, TensorFlow 1.x has many APIs and most of them were redundant and many times users get confused that which is the best way and how to use those APIs to get the better accuracy.\n",
        "\n",
        "In TensorFlow 2.0 google has removed all those APIs, so moreover google has done the API clean up and it has used eager execution which is pythonic based moreover and it improves the execution time and while defining the variables in TensorFlow 2.0 it does not use any global variables, and TensorFlow 2.0 has also removed the sessions.\n"
      ]
    },
    {
      "cell_type": "code",
      "metadata": {
        "id": "VDQgNsIMQyYz",
        "colab_type": "code",
        "colab": {}
      },
      "source": [
        "\n",
        "import numpy as np\n",
        "import pandas as pd\n",
        "import matplotlib.pyplot as plt\n",
        "from tensorflow import keras\n"
      ],
      "execution_count": null,
      "outputs": []
    },
    {
      "cell_type": "code",
      "metadata": {
        "id": "KislkMg8RC4U",
        "colab_type": "code",
        "colab": {}
      },
      "source": [
        "mnist = keras.datasets.fashion_mnist"
      ],
      "execution_count": null,
      "outputs": []
    },
    {
      "cell_type": "code",
      "metadata": {
        "id": "hpKyWoQmRQh7",
        "colab_type": "code",
        "colab": {
          "base_uri": "https://localhost:8080/",
          "height": 34
        },
        "outputId": "0ba05049-e1ec-46a9-ce57-7849fb23c401"
      },
      "source": [
        "type(mnist)"
      ],
      "execution_count": null,
      "outputs": [
        {
          "output_type": "execute_result",
          "data": {
            "text/plain": [
              "module"
            ]
          },
          "metadata": {
            "tags": []
          },
          "execution_count": 10
        }
      ]
    },
    {
      "cell_type": "code",
      "metadata": {
        "id": "6GNEIy75RWcB",
        "colab_type": "code",
        "colab": {
          "base_uri": "https://localhost:8080/",
          "height": 173
        },
        "outputId": "5fded65e-7de8-45fc-87a0-35d65ce0a67b"
      },
      "source": [
        "(x_tain,y_train),(x_test,y_test) =mnist.load_data()"
      ],
      "execution_count": null,
      "outputs": [
        {
          "output_type": "stream",
          "text": [
            "Downloading data from https://storage.googleapis.com/tensorflow/tf-keras-datasets/train-labels-idx1-ubyte.gz\n",
            "32768/29515 [=================================] - 0s 0us/step\n",
            "Downloading data from https://storage.googleapis.com/tensorflow/tf-keras-datasets/train-images-idx3-ubyte.gz\n",
            "26427392/26421880 [==============================] - 0s 0us/step\n",
            "Downloading data from https://storage.googleapis.com/tensorflow/tf-keras-datasets/t10k-labels-idx1-ubyte.gz\n",
            "8192/5148 [===============================================] - 0s 0us/step\n",
            "Downloading data from https://storage.googleapis.com/tensorflow/tf-keras-datasets/t10k-images-idx3-ubyte.gz\n",
            "4423680/4422102 [==============================] - 0s 0us/step\n"
          ],
          "name": "stdout"
        }
      ]
    },
    {
      "cell_type": "code",
      "metadata": {
        "id": "V7maEDSuRpfH",
        "colab_type": "code",
        "colab": {
          "base_uri": "https://localhost:8080/",
          "height": 34
        },
        "outputId": "42a01619-f81b-4713-ffd1-732a448251df"
      },
      "source": [
        "x_tain.shape,y_train.shape"
      ],
      "execution_count": null,
      "outputs": [
        {
          "output_type": "execute_result",
          "data": {
            "text/plain": [
              "((60000, 28, 28), (60000,))"
            ]
          },
          "metadata": {
            "tags": []
          },
          "execution_count": 18
        }
      ]
    },
    {
      "cell_type": "code",
      "metadata": {
        "id": "3k-NhIUFR-Eo",
        "colab_type": "code",
        "colab": {
          "base_uri": "https://localhost:8080/",
          "height": 34
        },
        "outputId": "f40f4522-6d27-4787-f0bb-dcca78475172"
      },
      "source": [
        "np.max(x_tain)\n"
      ],
      "execution_count": null,
      "outputs": [
        {
          "output_type": "execute_result",
          "data": {
            "text/plain": [
              "255"
            ]
          },
          "metadata": {
            "tags": []
          },
          "execution_count": 22
        }
      ]
    },
    {
      "cell_type": "code",
      "metadata": {
        "id": "JCg3nrXYSI9-",
        "colab_type": "code",
        "colab": {
          "base_uri": "https://localhost:8080/",
          "height": 34
        },
        "outputId": "65962bc0-616e-4426-c011-99537d70f4e0"
      },
      "source": [
        "np.mean(x_tain)"
      ],
      "execution_count": null,
      "outputs": [
        {
          "output_type": "execute_result",
          "data": {
            "text/plain": [
              "72.94035223214286"
            ]
          },
          "metadata": {
            "tags": []
          },
          "execution_count": 24
        }
      ]
    },
    {
      "cell_type": "code",
      "metadata": {
        "id": "-6Y7gor7SPwc",
        "colab_type": "code",
        "colab": {
          "base_uri": "https://localhost:8080/",
          "height": 34
        },
        "outputId": "9f5f3865-558a-49c7-c7cc-740d4f960966"
      },
      "source": [
        "y_train"
      ],
      "execution_count": null,
      "outputs": [
        {
          "output_type": "execute_result",
          "data": {
            "text/plain": [
              "array([9, 0, 0, ..., 3, 0, 5], dtype=uint8)"
            ]
          },
          "metadata": {
            "tags": []
          },
          "execution_count": 26
        }
      ]
    },
    {
      "cell_type": "code",
      "metadata": {
        "id": "tmiINwBzSSMx",
        "colab_type": "code",
        "colab": {}
      },
      "source": [
        "class_names = ['top','trouser','pullover','dress','coat','sandal','shirt','sneaker','bag','ankle','boot']"
      ],
      "execution_count": null,
      "outputs": []
    },
    {
      "cell_type": "code",
      "metadata": {
        "id": "5jae5bT2qdkh",
        "colab_type": "code",
        "colab": {
          "base_uri": "https://localhost:8080/",
          "height": 34
        },
        "outputId": "4acf53a1-1048-4f70-9145-ee5583067e11"
      },
      "source": [
        "# Data ExploratExploration \n",
        "x_tain.shape"
      ],
      "execution_count": null,
      "outputs": [
        {
          "output_type": "execute_result",
          "data": {
            "text/plain": [
              "(60000, 28, 28)"
            ]
          },
          "metadata": {
            "tags": []
          },
          "execution_count": 61
        }
      ]
    },
    {
      "cell_type": "markdown",
      "metadata": {
        "id": "wLx0IZTjq2hO",
        "colab_type": "text"
      },
      "source": [
        "** This testing data set concontains the 10000 images of size 28*28 **"
      ]
    },
    {
      "cell_type": "code",
      "metadata": {
        "id": "VpJoVKWXrVJG",
        "colab_type": "code",
        "colab": {
          "base_uri": "https://localhost:8080/",
          "height": 34
        },
        "outputId": "dfa99dd5-a4e2-4863-d5da-840f4690725c"
      },
      "source": [
        "x_test.shape"
      ],
      "execution_count": null,
      "outputs": [
        {
          "output_type": "execute_result",
          "data": {
            "text/plain": [
              "(10000, 28, 28)"
            ]
          },
          "metadata": {
            "tags": []
          },
          "execution_count": 62
        }
      ]
    },
    {
      "cell_type": "markdown",
      "metadata": {
        "id": "TNou_3LbrvMj",
        "colab_type": "text"
      },
      "source": [
        "Here we have plotted the second image of our training set i.e. the image at index 1.\n",
        "The plt.figure() function in pyplot module of matplotlib library is used to create a new figure. The plt.imshow() function in pyplot module of matplotlib library is used to display data as an image. plt.colorbar() displays the colour bar besides the image. You can see that the values are between 0 and 255.\n"
      ]
    },
    {
      "cell_type": "code",
      "metadata": {
        "id": "p8UT5LJPS-8Y",
        "colab_type": "code",
        "colab": {
          "base_uri": "https://localhost:8080/",
          "height": 286
        },
        "outputId": "e8ea6e8e-cb45-4f1f-9efa-6568e9973e86"
      },
      "source": [
        "plt.figure()\n",
        "plt.imshow(x_test[1])\n",
        "plt.colorbar()"
      ],
      "execution_count": null,
      "outputs": [
        {
          "output_type": "execute_result",
          "data": {
            "text/plain": [
              "<matplotlib.colorbar.Colorbar at 0x7fb14e3d0f98>"
            ]
          },
          "metadata": {
            "tags": []
          },
          "execution_count": 33
        },
        {
          "output_type": "display_data",
          "data": {
            "image/png": "[encoded data removed]",
            "text/plain": [
              "<Figure size 432x288 with 2 Axes>"
            ]
          },
          "metadata": {
            "tags": [],
            "needs_background": "light"
          }
        }
      ]
    },
    {
      "cell_type": "markdown",
      "metadata": {
        "id": "j-FK1BtrsYJX",
        "colab_type": "text"
      },
      "source": [
        "As you can see the image is a top and the value at index 1 of y_train also corresponds to the class name top."
      ]
    },
    {
      "cell_type": "code",
      "metadata": {
        "id": "7KOjsFR-UPx7",
        "colab_type": "code",
        "colab": {
          "base_uri": "https://localhost:8080/",
          "height": 34
        },
        "outputId": "db6d51e2-f1d4-48a2-95dd-848ab6448d44"
      },
      "source": [
        "y_train"
      ],
      "execution_count": null,
      "outputs": [
        {
          "output_type": "execute_result",
          "data": {
            "text/plain": [
              "array([9, 0, 0, ..., 3, 0, 5], dtype=uint8)"
            ]
          },
          "metadata": {
            "tags": []
          },
          "execution_count": 63
        }
      ]
    },
    {
      "cell_type": "markdown",
      "metadata": {
        "id": "9i1QmapLsw9X",
        "colab_type": "text"
      },
      "source": [
        "Neural Network model doesn’t take value greater than 1. So we need to bring all the values between 0 and 1. To do this we will divide all the values in the training and testing dataset by 255 as the greatest value in our dataset is 255."
      ]
    },
    {
      "cell_type": "code",
      "metadata": {
        "id": "ktFWxcSps5uN",
        "colab_type": "code",
        "colab": {}
      },
      "source": [
        "x_tain = x_tain/255.0\n",
        "x_test = x_test/255.0"
      ],
      "execution_count": null,
      "outputs": []
    },
    {
      "cell_type": "markdown",
      "metadata": {
        "id": "NSW1IDPBtz2M",
        "colab_type": "text"
      },
      "source": [
        "Now we can see that all the values are between 0 and 1."
      ]
    },
    {
      "cell_type": "code",
      "metadata": {
        "id": "nmn8821ZtN-N",
        "colab_type": "code",
        "colab": {}
      },
      "source": [
        "# x_tain"
      ],
      "execution_count": null,
      "outputs": []
    },
    {
      "cell_type": "code",
      "metadata": {
        "id": "vMrk4LKVt_Nz",
        "colab_type": "code",
        "colab": {}
      },
      "source": [
        "plt.figure()\n",
        "plt.imshow(X_train[1])\n",
        "plt.colorbar()"
      ],
      "execution_count": null,
      "outputs": []
    },
    {
      "cell_type": "markdown",
      "metadata": {
        "id": "ArqcvHQCuF4K",
        "colab_type": "text"
      },
      "source": [
        "Build the model with TF 2.0\n",
        "We will import the necessary layers to build the model. The Neural Network is constructed from 3 type of layers:"
      ]
    },
    {
      "cell_type": "markdown",
      "metadata": {
        "id": "0Tz7iUvYuNJP",
        "colab_type": "text"
      },
      "source": [
        "Input layer — initial data for the neural network.\n",
        "Hidden layers — intermediate layer between input and output layer and place where all the computation is done.\n",
        "Output layer — produce the result for given inputs.\n",
        "\n",
        "from tensorflow.keras import Sequential\n",
        "from tensorflow.keras.layers import Flatten, Dense\n",
        "\n",
        "Flatten() is used as the input layer to convert the data into a 1-dimensional array for inputting it to the next layer. Our image 2D image will be converted to a single 1D column. input_shape = (28,28) because the size of our input image is 28×28.\n",
        "\n",
        "Dense() layer is the regular deeply connected neural network layer. It is most common and frequently used layer. We have a dense layer with 128 neurons with activation function relu. The rectified linear activation function or ReLU for short is a piecewise linear function that will output the input directly if it is positive, otherwise, it will output zero."
      ]
    },
    {
      "cell_type": "markdown",
      "metadata": {
        "id": "gEXyu5cJuYi2",
        "colab_type": "text"
      },
      "source": [
        "The output layer is a dense layer with 10 neurons because we have 10 classes. The activation function used is softmax. Softmax converts a real vector to a vector of categorical probabilities. The elements of the output vector are in range (0, 1) and sum to 1. Softmax is often used as the activation for the last layer of a classification network because the result could be interpreted as a probability distribution."
      ]
    },
    {
      "cell_type": "code",
      "metadata": {
        "id": "7_ZzSufuUVKy",
        "colab_type": "code",
        "colab": {}
      },
      "source": [
        "from tensorflow.keras import Sequential\n",
        "from tensorflow.keras.layers import Flatten, Dense"
      ],
      "execution_count": null,
      "outputs": []
    },
    {
      "cell_type": "code",
      "metadata": {
        "id": "GjWmkvnTU5Ou",
        "colab_type": "code",
        "colab": {
          "base_uri": "https://localhost:8080/",
          "height": 255
        },
        "outputId": "cc059dfc-e941-401e-95dd-d7097ce89ba2"
      },
      "source": [
        "model = Sequential()\n",
        "model.add(Flatten(input_shape = (28,28)))\n",
        "model.add(Dense(128,activation = 'relu'))\n",
        "model.add(Dense(10,activation ='softmax'))\n",
        "model.summary()"
      ],
      "execution_count": null,
      "outputs": [
        {
          "output_type": "stream",
          "text": [
            "Model: \"sequential_2\"\n",
            "_________________________________________________________________\n",
            "Layer (type)                 Output Shape              Param #   \n",
            "=================================================================\n",
            "flatten_1 (Flatten)          (None, 784)               0         \n",
            "_________________________________________________________________\n",
            "dense_2 (Dense)              (None, 128)               100480    \n",
            "_________________________________________________________________\n",
            "dense_3 (Dense)              (None, 10)                1290      \n",
            "=================================================================\n",
            "Total params: 101,770\n",
            "Trainable params: 101,770\n",
            "Non-trainable params: 0\n",
            "_________________________________________________________________\n"
          ],
          "name": "stdout"
        }
      ]
    },
    {
      "cell_type": "markdown",
      "metadata": {
        "id": "p6rapz_QvDNL",
        "colab_type": "text"
      },
      "source": [
        "Model compilation\n",
        "Loss Function: A loss function is used to optimize the parameter values in a neural network model. Loss functions map a set of parameter values for the network onto a scalar value that indicates how well those parameter accomplish the task the network is intended to do.\n",
        "Optimizer: Optimizers are algorithms or methods used to change the attributes of your neural network such as weights and learning rate in order to reduce the losses.\n",
        "Metrics: A metric is a function that is used to judge the performance of your model. Metric functions are similar to loss functions, except that the results from evaluating a metric are not used when training the model.\n",
        "Here we are compiling the model and fitting it to the training data. We will use 10 epochs to train the model. An epoch is an iteration over the entire data provided.\n"
      ]
    },
    {
      "cell_type": "code",
      "metadata": {
        "id": "3WLrF3y7U84y",
        "colab_type": "code",
        "colab": {
          "base_uri": "https://localhost:8080/",
          "height": 394
        },
        "outputId": "f7f57a06-8520-4b1b-d65d-c4d352f8526a"
      },
      "source": [
        "model.compile(optimizer='adam', loss ='sparse_categorical_crossentropy', metrics = ['accuracy'])\n",
        "model.fit(x_tain, y_train, epochs = 10)"
      ],
      "execution_count": null,
      "outputs": [
        {
          "output_type": "stream",
          "text": [
            "Epoch 1/10\n",
            "1875/1875 [==============================] - 4s 2ms/step - loss: 0.4953 - accuracy: 0.8243\n",
            "Epoch 2/10\n",
            "1875/1875 [==============================] - 4s 2ms/step - loss: 0.3728 - accuracy: 0.8656\n",
            "Epoch 3/10\n",
            "1875/1875 [==============================] - 4s 2ms/step - loss: 0.3347 - accuracy: 0.8789\n",
            "Epoch 4/10\n",
            "1875/1875 [==============================] - 4s 2ms/step - loss: 0.3130 - accuracy: 0.8858\n",
            "Epoch 5/10\n",
            "1875/1875 [==============================] - 4s 2ms/step - loss: 0.2951 - accuracy: 0.8920\n",
            "Epoch 6/10\n",
            "1875/1875 [==============================] - 4s 2ms/step - loss: 0.2816 - accuracy: 0.8960\n",
            "Epoch 7/10\n",
            "1875/1875 [==============================] - 4s 2ms/step - loss: 0.2685 - accuracy: 0.9010\n",
            "Epoch 8/10\n",
            "1875/1875 [==============================] - 4s 2ms/step - loss: 0.2576 - accuracy: 0.9051\n",
            "Epoch 9/10\n",
            "1875/1875 [==============================] - 4s 2ms/step - loss: 0.2479 - accuracy: 0.9084\n",
            "Epoch 10/10\n",
            "1875/1875 [==============================] - 4s 2ms/step - loss: 0.2393 - accuracy: 0.9115\n"
          ],
          "name": "stdout"
        },
        {
          "output_type": "execute_result",
          "data": {
            "text/plain": [
              "<tensorflow.python.keras.callbacks.History at 0x7fb14d50ffd0>"
            ]
          },
          "metadata": {
            "tags": []
          },
          "execution_count": 41
        }
      ]
    },
    {
      "cell_type": "markdown",
      "metadata": {
        "id": "Zw4BGDZ_vlr1",
        "colab_type": "text"
      },
      "source": [
        "Now we will evaluate the accuracy using the test data. We have got an accuracy of \n",
        "88.41%."
      ]
    },
    {
      "cell_type": "code",
      "metadata": {
        "id": "HITac5gZU9rP",
        "colab_type": "code",
        "colab": {
          "base_uri": "https://localhost:8080/",
          "height": 71
        },
        "outputId": "23573ef1-81aa-49d2-cf4d-78947e12e857"
      },
      "source": [
        "test_loss, test_acc =model.evaluate(x_test, y_test)\n",
        "print(test_acc)"
      ],
      "execution_count": null,
      "outputs": [
        {
          "output_type": "stream",
          "text": [
            "313/313 [==============================] - 0s 1ms/step - loss: 0.3558 - accuracy: 0.8762\n",
            "0.8762000203132629\n"
          ],
          "name": "stdout"
        }
      ]
    },
    {
      "cell_type": "markdown",
      "metadata": {
        "id": "eA-6PK7Rv4J1",
        "colab_type": "text"
      },
      "source": [
        "Now we are going to do predictions using sklearn and see the accuracy. For that we will import accuracy_score from sklearn.\n",
        "\n",
        "from sklearn.metrics import accuracy_score\n",
        "\n",
        "predict_classes generates class predictions for the input samples. Here we are giving X_test containing 10000 images as the input. We are even predicting the accuracy. In multilabel classification, accuracy_score computes subset accuracy: the set of labels predicted for a sample must exactly match the corresponding set of labels in y_test.\n"
      ]
    },
    {
      "cell_type": "code",
      "metadata": {
        "id": "4c6P25Mpjamt",
        "colab_type": "code",
        "colab": {}
      },
      "source": [
        "from sklearn.metrics import accuracy_score"
      ],
      "execution_count": null,
      "outputs": []
    },
    {
      "cell_type": "code",
      "metadata": {
        "id": "9lGCLdmajrNs",
        "colab_type": "code",
        "colab": {
          "base_uri": "https://localhost:8080/",
          "height": 197
        },
        "outputId": "3fab496a-e617-4065-c1c2-4ffb5af4d613"
      },
      "source": [
        "y_pred = model.predict_classes(x_test)\n",
        "accuracy_score(y_test, y_pred)\n",
        " "
      ],
      "execution_count": null,
      "outputs": [
        {
          "output_type": "error",
          "ename": "NameError",
          "evalue": "ignored",
          "traceback": [
            "\u001b[0;31m---------------------------------------------------------------------------\u001b[0m",
            "\u001b[0;31mNameError\u001b[0m                                 Traceback (most recent call last)",
            "\u001b[0;32m<ipython-input-74-d31f0aa28782>\u001b[0m in \u001b[0;36m<module>\u001b[0;34m()\u001b[0m\n\u001b[1;32m      1\u001b[0m \u001b[0my_pred\u001b[0m \u001b[0;34m=\u001b[0m \u001b[0mmodel\u001b[0m\u001b[0;34m.\u001b[0m\u001b[0mpredict_classes\u001b[0m\u001b[0;34m(\u001b[0m\u001b[0mx_test\u001b[0m\u001b[0;34m)\u001b[0m\u001b[0;34m\u001b[0m\u001b[0;34m\u001b[0m\u001b[0m\n\u001b[0;32m----> 2\u001b[0;31m \u001b[0maccuracy_score\u001b[0m\u001b[0;34m(\u001b[0m\u001b[0my_test\u001b[0m\u001b[0;34m,\u001b[0m \u001b[0my_pred\u001b[0m\u001b[0;34m)\u001b[0m\u001b[0;34m\u001b[0m\u001b[0;34m\u001b[0m\u001b[0m\n\u001b[0m\u001b[1;32m      3\u001b[0m \u001b[0;34m\u001b[0m\u001b[0m\n",
            "\u001b[0;31mNameError\u001b[0m: name 'accuracy_score' is not defined"
          ]
        }
      ]
    },
    {
      "cell_type": "code",
      "metadata": {
        "id": "N5Ylv1R6mgvy",
        "colab_type": "code",
        "colab": {
          "base_uri": "https://localhost:8080/",
          "height": 34
        },
        "outputId": "9eb06ce0-c354-4c48-f019-79409f0a7de4"
      },
      "source": [
        "y_pred"
      ],
      "execution_count": null,
      "outputs": [
        {
          "output_type": "execute_result",
          "data": {
            "text/plain": [
              "array([9, 2, 1, ..., 8, 1, 5])"
            ]
          },
          "metadata": {
            "tags": []
          },
          "execution_count": 56
        }
      ]
    },
    {
      "cell_type": "markdown",
      "metadata": {
        "id": "hu0pDlW6w4sL",
        "colab_type": "text"
      },
      "source": [
        "dtype=int64)\n",
        "predict() returns an array unlike predict_class() which returns categorical values. The array contains the confidence level for each of the class."
      ]
    },
    {
      "cell_type": "code",
      "metadata": {
        "id": "0HTrLSwVnaWO",
        "colab_type": "code",
        "colab": {
          "base_uri": "https://localhost:8080/",
          "height": 238
        },
        "outputId": "edbfc1c0-fe02-4672-d2b5-8ba6000e7f6a"
      },
      "source": [
        "pred = model.predict(x_test)\n",
        "pred\n"
      ],
      "execution_count": null,
      "outputs": [
        {
          "output_type": "execute_result",
          "data": {
            "text/plain": [
              "array([[6.8689491e-07, 1.0641002e-11, 6.4072586e-10, ..., 7.3293253e-04,\n",
              "        9.8310837e-10, 9.9892801e-01],\n",
              "       [5.3661338e-06, 3.2258357e-13, 9.9321270e-01, ..., 4.4447755e-21,\n",
              "        2.4795478e-11, 2.7556126e-16],\n",
              "       [1.2470665e-07, 9.9999988e-01, 1.2044912e-09, ..., 2.6962400e-25,\n",
              "        1.0522829e-12, 4.6553947e-19],\n",
              "       ...,\n",
              "       [5.7370892e-07, 3.0894273e-13, 3.5026719e-08, ..., 3.8180947e-12,\n",
              "        9.9999011e-01, 7.3994162e-16],\n",
              "       [4.0170541e-08, 9.9999845e-01, 5.6525257e-10, ..., 7.2541695e-17,\n",
              "        1.1082909e-09, 5.8037972e-16],\n",
              "       [1.1179267e-06, 1.1691634e-07, 2.0770531e-06, ..., 7.7743753e-05,\n",
              "        2.6288722e-05, 5.6985994e-07]], dtype=float32)"
            ]
          },
          "metadata": {
            "tags": []
          },
          "execution_count": 57
        }
      ]
    },
    {
      "cell_type": "markdown",
      "metadata": {
        "id": "QsDwJSTOxKx6",
        "colab_type": "text"
      },
      "source": [
        "As you can see for the test image at index 0, predict has retured this array. In this the value at index 9 is the greatest. This shows that the model has predicted the test image at index 0 to have class 9 which is ankle boot."
      ]
    },
    {
      "cell_type": "code",
      "metadata": {
        "id": "eHQXH5OYnzDU",
        "colab_type": "code",
        "colab": {
          "base_uri": "https://localhost:8080/",
          "height": 68
        },
        "outputId": "cff4d354-1c71-4093-a884-d11b52f544ce"
      },
      "source": [
        "pred[0]"
      ],
      "execution_count": null,
      "outputs": [
        {
          "output_type": "execute_result",
          "data": {
            "text/plain": [
              "array([6.8689491e-07, 1.0641002e-11, 6.4072586e-10, 3.5839222e-12,\n",
              "       1.1282041e-09, 3.3758924e-04, 7.5350198e-07, 7.3293253e-04,\n",
              "       9.8310837e-10, 9.9892801e-01], dtype=float32)"
            ]
          },
          "metadata": {
            "tags": []
          },
          "execution_count": 58
        }
      ]
    },
    {
      "cell_type": "markdown",
      "metadata": {
        "id": "pV-zIh4vxzYr",
        "colab_type": "text"
      },
      "source": [
        "argmax() returns the index of the maximum value. Hence we can see that the predicted class is 9 as maximum value is found at index position 9."
      ]
    },
    {
      "cell_type": "code",
      "metadata": {
        "id": "03S_D2bJoaRu",
        "colab_type": "code",
        "colab": {
          "base_uri": "https://localhost:8080/",
          "height": 34
        },
        "outputId": "a89b8b9f-6e60-4f64-8282-0373d18cb837"
      },
      "source": [
        "np.argmax(pred[0])"
      ],
      "execution_count": null,
      "outputs": [
        {
          "output_type": "execute_result",
          "data": {
            "text/plain": [
              "9"
            ]
          },
          "metadata": {
            "tags": []
          },
          "execution_count": 59
        }
      ]
    },
    {
      "cell_type": "markdown",
      "metadata": {
        "id": "RavnWVYyyFPI",
        "colab_type": "text"
      },
      "source": [
        "For the second image in the test data i.e. the image at index 1 the predicted class is 2 which is pullover.\n"
      ]
    },
    {
      "cell_type": "code",
      "metadata": {
        "id": "A2TbIuugokNX",
        "colab_type": "code",
        "colab": {
          "base_uri": "https://localhost:8080/",
          "height": 34
        },
        "outputId": "8e9fa643-b2cc-415e-e6ff-ae87bc91c57e"
      },
      "source": [
        "np.argmax(pred[1])"
      ],
      "execution_count": null,
      "outputs": [
        {
          "output_type": "execute_result",
          "data": {
            "text/plain": [
              "2"
            ]
          },
          "metadata": {
            "tags": []
          },
          "execution_count": 60
        }
      ]
    },
    {
      "cell_type": "markdown",
      "metadata": {
        "id": "yQQrlv4VyT_R",
        "colab_type": "text"
      },
      "source": [
        "The model gives an accuracy of 91.2% on the training data and 88.41% on test data. Hence the model is overfitting the training data. Overfitting happens when a model learns the detail and noise in the training data to the extent that it negatively impacts the performance of the model on new data. This means that the noise or random fluctuations in the training data is picked up and learned as concepts by the model. The problem is that these concepts do not apply to new data and negatively impact the models ability to generalize. To avoid overfitting we can use Convolutional Neural Networks."
      ]
    }
  ]
}